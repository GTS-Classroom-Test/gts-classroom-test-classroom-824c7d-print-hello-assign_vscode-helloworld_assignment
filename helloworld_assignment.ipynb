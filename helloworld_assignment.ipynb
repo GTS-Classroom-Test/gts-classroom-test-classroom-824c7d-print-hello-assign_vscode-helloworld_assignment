{
 "cells": [
  {
   "cell_type": "markdown",
   "metadata": {},
   "source": [
    "# Test assignment\n",
    "### Learning to print a string\n",
    "Let's say we want to print \"Hello, world!\"\n",
    "\n",
    "The Python command to print is print()\n",
    "We put what we'd want to print inside the parentheses.\n",
    "If it's a string of characters, then we type F'' and put the desired characters inside the single quotes. Like this:\n",
    "\n",
    "    print(F'Hello, world!')\n",
    "\n",
    "Now you try: copy the above command into the code block below, then shift+return to execute the code."
   ]
  },
  {
   "cell_type": "code",
   "execution_count": 1,
   "metadata": {},
   "outputs": [
    {
     "name": "stdout",
     "output_type": "stream",
     "text": [
      "Hello, world!\n"
     ]
    }
   ],
   "source": [
    "print(F'Hello, world!')"
   ]
  },
  {
   "cell_type": "markdown",
   "metadata": {},
   "source": [
    "### Not so hard, right?\n",
    "Let's say we might want to use that character string (\"Hello, world!\") a lot in our code. We could define a variable that represents that string. To define a variable, choose a descriptive variable name (hello_string), type \"=\", then type the string itself. Don't forget the F'' ! Like this:"
   ]
  },
  {
   "cell_type": "code",
   "execution_count": 2,
   "metadata": {},
   "outputs": [],
   "source": [
    "hello_string = F'Hello, world!'"
   ]
  },
  {
   "cell_type": "markdown",
   "metadata": {},
   "source": [
    "When you execute that cell, nothing happens on the screen, because you are simply saving the string as a named variable in your environment. But now, you can print by typing the variable name inside the print() parentheses. Since it's a variable, and not a string, we don't need to include the F'' part this time."
   ]
  },
  {
   "cell_type": "code",
   "execution_count": null,
   "metadata": {},
   "outputs": [],
   "source": []
  },
  {
   "cell_type": "markdown",
   "metadata": {},
   "source": [
    "## The End"
   ]
  },
  {
   "cell_type": "markdown",
   "metadata": {},
   "source": []
  }
 ],
 "metadata": {
  "kernelspec": {
   "display_name": "Python 3",
   "language": "python",
   "name": "python3"
  },
  "language_info": {
   "codemirror_mode": {
    "name": "ipython",
    "version": 3
   },
   "file_extension": ".py",
   "mimetype": "text/x-python",
   "name": "python",
   "nbconvert_exporter": "python",
   "pygments_lexer": "ipython3",
   "version": "3.9.6"
  }
 },
 "nbformat": 4,
 "nbformat_minor": 2
}
